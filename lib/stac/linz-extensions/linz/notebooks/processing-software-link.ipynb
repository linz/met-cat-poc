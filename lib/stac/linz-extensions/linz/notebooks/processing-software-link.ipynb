{
 "cells": [
  {
   "cell_type": "markdown",
   "id": "4b29124d-9e52-4124-8b9f-efb60762c0dc",
   "metadata": {},
   "source": [
    "# Adding URL to `processing:software`"
   ]
  },
  {
   "cell_type": "markdown",
   "id": "3a736748-d401-4e7a-854b-36128443d447",
   "metadata": {},
   "source": [
    "We've been planning to use the [processing extension](https://github.com/stac-extensions/processing) to keep a record of software used in processing. The relevant part of the schema looks like this:"
   ]
  },
  {
   "cell_type": "code",
   "execution_count": 1,
   "id": "5a666ade-3756-4e97-9e2b-103f72cec826",
   "metadata": {},
   "outputs": [
    {
     "data": {
      "application/json": {
       "example": {
        "Sentinel-1 IPF": "002.71"
       },
       "patternProperties": {
        ".{1,}": {
         "type": "string"
        }
       },
       "title": "Processing Software Name / version",
       "type": "object"
      },
      "text/plain": [
       "<IPython.core.display.JSON object>"
      ]
     },
     "execution_count": 1,
     "metadata": {
      "application/json": {
       "expanded": true,
       "root": "root"
      }
     },
     "output_type": "execute_result"
    }
   ],
   "source": [
    "from json import dumps, load\n",
    "from urllib.request import urlopen\n",
    "from IPython.display import JSON\n",
    "\n",
    "processing_schema_url = \"https://stac-extensions.github.io/processing/v1.0.0/schema.json\"\n",
    "with urlopen(processing_schema_url) as file_pointer:\n",
    "    processing_schema = load(file_pointer)\n",
    "\n",
    "JSON(data=processing_schema[\"definitions\"][\"fields\"][\"properties\"][\"processing:software\"], expanded=True)"
   ]
  },
  {
   "cell_type": "markdown",
   "id": "8b46b3c3-4205-4066-92ce-f8d8295586b7",
   "metadata": {},
   "source": [
    "This can't easily be extended to include other values, like the URL of the software. One possibility would be to include the URL inside the key:\n",
    "\n",
    "```json\n",
    "{\n",
    "    \"Sentinel-1 IPF <https://example.org/sentinel-1-ipf>\": \"002.71\"\n",
    "}\n",
    "```\n",
    "\n",
    "Another option would be to link directly to the version:\n",
    "\n",
    "```json\n",
    "{\n",
    "    \"Sentinel-1 IPF\": \"[002.71](https://example.org/sentinel-1-ipf/002.71)\"\n",
    "}\n",
    "```\n",
    "\n",
    "Both options have several issues:\n",
    "\n",
    "- Anyone who wants *just* the name or version or URL now needs to parse the field, which is complicated and risky.\n",
    "- There's basically infinite flexibility in how the URL and its title could be formatted; the above just shows email style and Markdown. Other popular possibilities include Mediawiki and HTML, just to name a few. This makes a difference to how the field is parsed, and makes it much harder to validate the contents of the field.\n",
    "- Including more than one version of the same software, for example if it's been processed more than once, is going to make the values much harder to parse.\n",
    "\n",
    "The obvious conclusion is that we need a breaking change to the schema to allow a more flexible structure. We can deal with all the above issues by making `processing:software` a list of objects. Let's try building a list-of-objects structure & validation:"
   ]
  },
  {
   "cell_type": "code",
   "execution_count": 2,
   "id": "7b2d67c6-3313-4023-9752-49d133d86d59",
   "metadata": {},
   "outputs": [
    {
     "name": "stdout",
     "output_type": "stream",
     "text": [
      "Validated successfully\n"
     ]
    }
   ],
   "source": [
    "from sys import stderr\n",
    "from jsonschema import Draft7Validator\n",
    "\n",
    "def validate(schema, instance):\n",
    "    found_error = False\n",
    "\n",
    "    for error in Draft7Validator(schema).iter_errors(instance):\n",
    "        found_error = True\n",
    "        print(error.message, file=stderr)\n",
    "\n",
    "    if not found_error:\n",
    "        print(\"Validated successfully\")\n",
    "\n",
    "example = [\n",
    "    {\n",
    "        \"name\": \"only name\"\n",
    "    },\n",
    "    {\n",
    "        \"link\": \"https://example.org/only-link\"\n",
    "    },\n",
    "    {\n",
    "        \"name\": \"all properties\",\n",
    "        \"link\": \"https://example.org\",\n",
    "        \"version\": \"1.0\"\n",
    "    },\n",
    "    {\n",
    "        \"name\": \"other properties\",\n",
    "        \"licensor\": \"ACME Industries\"\n",
    "    },\n",
    "# Uncomment to check error handling\n",
    "#     {\n",
    "#         \"name\": 1,\n",
    "#         \"link\": 2,\n",
    "#         \"version\": 3\n",
    "#     },\n",
    "#     {\n",
    "#         \"licensor\": \"ACME Industries\"\n",
    "#     }\n",
    "]\n",
    "\n",
    "software_schema = {\n",
    "    \"type\": \"array\",\n",
    "    \"items\": {\n",
    "        \"type\": \"object\",\n",
    "        \"anyOf\": [\n",
    "            {\"required\": [\"name\"]},\n",
    "            {\"required\": [\"link\"]}\n",
    "        ],\n",
    "        \"properties\": {\n",
    "            \"name\": {\n",
    "                \"type\": \"string\"\n",
    "            },\n",
    "            \"link\": {\n",
    "                \"type\": \"string\",\n",
    "                \"format\": \"iri\"\n",
    "            },\n",
    "            \"version\": {\n",
    "                \"type\": \"string\"\n",
    "            }\n",
    "        }\n",
    "    }\n",
    "}\n",
    "\n",
    "validate(software_schema, example)"
   ]
  },
  {
   "cell_type": "markdown",
   "id": "48954a5d-f898-4514-9750-f895dc9a0ac7",
   "metadata": {},
   "source": [
    "This implementation allows users to add other fields they feel are relevant, like processing output, contact persons, license, and so on. This seems to be the default across STAC extensions.\n",
    "\n",
    "Why I used `link` rather than `url`:\n",
    "\n",
    "- As [IRI, URI, URL, URN and their differences](https://fusion.cs.uni-jena.de/fusion/2016/11/18/iri-uri-url-urn-and-their-differences/) explains, IRI is a superset of URI, and URI is a superset of URL. So calling it `url` is not correct.\n",
    "- `link` is more universally understood than `iri`.\n",
    "\n",
    "I used `iri` as the type rather than `url` because IRIs allow non-ASCII characters in URLs. This would allow things like macronated place names in filenames, which would be especially good when an ASCIIfied version of the name would be ambiguous.\n",
    "\n",
    "Applying the above to the original extension and LINZ extension collection example:"
   ]
  },
  {
   "cell_type": "code",
   "execution_count": 3,
   "id": "cf223f0f-7598-485a-9eae-5e331049bc69",
   "metadata": {},
   "outputs": [
    {
     "name": "stdout",
     "output_type": "stream",
     "text": [
      "Validated successfully\n"
     ]
    }
   ],
   "source": [
    "processing_schema[\"definitions\"][\"fields\"][\"properties\"][\"processing:software\"] = software_schema\n",
    "\n",
    "with urlopen(\"https://stac.linz.govt.nz/v0.0.10/linz/examples/collection.json\") as file_pointer:\n",
    "    collection = load(file_pointer)\n",
    "\n",
    "collection[\"stac_extensions\"].append(processing_schema_url)\n",
    "collection[\"assets\"][\"example\"][\"processing:software\"] = example\n",
    "\n",
    "# Work around bug in original schema, where a valid `providers` object means the `assets` processing properties are not validated\n",
    "del collection[\"providers\"]\n",
    "\n",
    "validate(processing_schema, collection)\n",
    "\n",
    "# print(dumps(processing_schema, indent=2))\n",
    "# print(dumps(collection, indent=2))"
   ]
  }
 ],
 "metadata": {
  "kernelspec": {
   "display_name": "Python3 - stac",
   "language": "python",
   "name": "ipython_stac"
  },
  "language_info": {
   "codemirror_mode": {
    "name": "ipython",
    "version": 3
   },
   "file_extension": ".py",
   "mimetype": "text/x-python",
   "name": "python",
   "nbconvert_exporter": "python",
   "pygments_lexer": "ipython3",
   "version": "3.8.9"
  }
 },
 "nbformat": 4,
 "nbformat_minor": 5
}
